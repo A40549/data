{
 "cells": [
  {
   "cell_type": "code",
   "execution_count": 61,
   "metadata": {},
   "outputs": [],
   "source": [
    "import pandas as pd\n",
    "import tensorflow as tf \n",
    "import matplotlib as plt "
   ]
  },
  {
   "cell_type": "code",
   "execution_count": null,
   "metadata": {},
   "outputs": [],
   "source": []
  },
  {
   "cell_type": "code",
   "execution_count": 62,
   "metadata": {},
   "outputs": [
    {
     "data": {
      "text/html": [
       "<div>\n",
       "<style scoped>\n",
       "    .dataframe tbody tr th:only-of-type {\n",
       "        vertical-align: middle;\n",
       "    }\n",
       "\n",
       "    .dataframe tbody tr th {\n",
       "        vertical-align: top;\n",
       "    }\n",
       "\n",
       "    .dataframe thead th {\n",
       "        text-align: right;\n",
       "    }\n",
       "</style>\n",
       "<table border=\"1\" class=\"dataframe\">\n",
       "  <thead>\n",
       "    <tr style=\"text-align: right;\">\n",
       "      <th></th>\n",
       "      <th>age</th>\n",
       "      <th>sex</th>\n",
       "      <th>bmi</th>\n",
       "      <th>children</th>\n",
       "      <th>smoker</th>\n",
       "      <th>region</th>\n",
       "      <th>charges</th>\n",
       "    </tr>\n",
       "  </thead>\n",
       "  <tbody>\n",
       "    <tr>\n",
       "      <th>0</th>\n",
       "      <td>19</td>\n",
       "      <td>female</td>\n",
       "      <td>27.900</td>\n",
       "      <td>0</td>\n",
       "      <td>yes</td>\n",
       "      <td>southwest</td>\n",
       "      <td>16884.92400</td>\n",
       "    </tr>\n",
       "    <tr>\n",
       "      <th>1</th>\n",
       "      <td>18</td>\n",
       "      <td>male</td>\n",
       "      <td>33.770</td>\n",
       "      <td>1</td>\n",
       "      <td>no</td>\n",
       "      <td>southeast</td>\n",
       "      <td>1725.55230</td>\n",
       "    </tr>\n",
       "    <tr>\n",
       "      <th>2</th>\n",
       "      <td>28</td>\n",
       "      <td>male</td>\n",
       "      <td>33.000</td>\n",
       "      <td>3</td>\n",
       "      <td>no</td>\n",
       "      <td>southeast</td>\n",
       "      <td>4449.46200</td>\n",
       "    </tr>\n",
       "    <tr>\n",
       "      <th>3</th>\n",
       "      <td>33</td>\n",
       "      <td>male</td>\n",
       "      <td>22.705</td>\n",
       "      <td>0</td>\n",
       "      <td>no</td>\n",
       "      <td>northwest</td>\n",
       "      <td>21984.47061</td>\n",
       "    </tr>\n",
       "    <tr>\n",
       "      <th>4</th>\n",
       "      <td>32</td>\n",
       "      <td>male</td>\n",
       "      <td>28.880</td>\n",
       "      <td>0</td>\n",
       "      <td>no</td>\n",
       "      <td>northwest</td>\n",
       "      <td>3866.85520</td>\n",
       "    </tr>\n",
       "  </tbody>\n",
       "</table>\n",
       "</div>"
      ],
      "text/plain": [
       "   age     sex     bmi  children smoker     region      charges\n",
       "0   19  female  27.900         0    yes  southwest  16884.92400\n",
       "1   18    male  33.770         1     no  southeast   1725.55230\n",
       "2   28    male  33.000         3     no  southeast   4449.46200\n",
       "3   33    male  22.705         0     no  northwest  21984.47061\n",
       "4   32    male  28.880         0     no  northwest   3866.85520"
      ]
     },
     "execution_count": 62,
     "metadata": {},
     "output_type": "execute_result"
    }
   ],
   "source": [
    "insurance = pd.read_csv(\"https://raw.githubusercontent.com/stedy/Machine-Learning-with-R-datasets/master/insurance.csv\")\n",
    "insurance.head()"
   ]
  },
  {
   "cell_type": "code",
   "execution_count": 63,
   "metadata": {},
   "outputs": [],
   "source": [
    "insurance_one_hot = pd.get_dummies(insurance,dtype=int)"
   ]
  },
  {
   "cell_type": "code",
   "execution_count": 64,
   "metadata": {},
   "outputs": [],
   "source": [
    "X = insurance_one_hot.drop(\"charges\",axis=1)\n",
    "y=insurance_one_hot[\"charges\"]"
   ]
  },
  {
   "cell_type": "code",
   "execution_count": 65,
   "metadata": {},
   "outputs": [],
   "source": [
    "from sklearn.model_selection import train_test_split\n",
    "X_train,X_test,y_train,y_test = train_test_split(X,y,test_size=0.2,random_state=42)"
   ]
  },
  {
   "cell_type": "code",
   "execution_count": 66,
   "metadata": {},
   "outputs": [],
   "source": [
    "import keras\n",
    "from keras import layers\n",
    "from keras import Sequential\n",
    "\n",
    "tf.random.set_seed(42)"
   ]
  },
  {
   "cell_type": "code",
   "execution_count": 67,
   "metadata": {},
   "outputs": [],
   "source": [
    "model = tf.keras.models.Sequential([\n",
    "    tf.keras.layers.Dense(100),\n",
    "    tf.keras.layers.Dense(10),\n",
    "    tf.keras.layers.Dense(1)\n",
    "])"
   ]
  },
  {
   "cell_type": "code",
   "execution_count": 68,
   "metadata": {},
   "outputs": [],
   "source": [
    "model.compile(loss=tf.keras.losses.mae,\n",
    "              optimizer = tf.keras.optimizers.Adam(),\n",
    "              metrics = [\"mae\"])"
   ]
  },
  {
   "cell_type": "code",
   "execution_count": 72,
   "metadata": {},
   "outputs": [
    {
     "name": "stdout",
     "output_type": "stream",
     "text": [
      "Epoch 1/100\n",
      "34/34 [==============================] - 0s 1ms/step - loss: 4888.4448 - mae: 4888.4448\n",
      "Epoch 2/100\n",
      "34/34 [==============================] - 0s 1000us/step - loss: 4810.7036 - mae: 4810.7036\n",
      "Epoch 3/100\n",
      "34/34 [==============================] - 0s 970us/step - loss: 4733.9092 - mae: 4733.9092\n",
      "Epoch 4/100\n",
      "34/34 [==============================] - 0s 894us/step - loss: 4651.8750 - mae: 4651.8750\n",
      "Epoch 5/100\n",
      "34/34 [==============================] - 0s 909us/step - loss: 4566.8398 - mae: 4566.8398\n",
      "Epoch 6/100\n",
      "34/34 [==============================] - 0s 879us/step - loss: 4489.0356 - mae: 4489.0356\n",
      "Epoch 7/100\n",
      "34/34 [==============================] - 0s 915us/step - loss: 4394.2080 - mae: 4394.2080\n",
      "Epoch 8/100\n",
      "34/34 [==============================] - 0s 940us/step - loss: 4309.8926 - mae: 4309.8926\n",
      "Epoch 9/100\n",
      "34/34 [==============================] - 0s 879us/step - loss: 4243.6846 - mae: 4243.6846\n",
      "Epoch 10/100\n",
      "34/34 [==============================] - 0s 881us/step - loss: 4156.3901 - mae: 4156.3901\n",
      "Epoch 11/100\n",
      "34/34 [==============================] - 0s 879us/step - loss: 4084.6006 - mae: 4084.6006\n",
      "Epoch 12/100\n",
      "34/34 [==============================] - 0s 879us/step - loss: 4022.4028 - mae: 4022.4028\n",
      "Epoch 13/100\n",
      "34/34 [==============================] - 0s 914us/step - loss: 3971.7122 - mae: 3971.7122\n",
      "Epoch 14/100\n",
      "34/34 [==============================] - 0s 909us/step - loss: 3932.1687 - mae: 3932.1687\n",
      "Epoch 15/100\n",
      "34/34 [==============================] - 0s 1000us/step - loss: 3898.8630 - mae: 3898.8630\n",
      "Epoch 16/100\n",
      "34/34 [==============================] - 0s 943us/step - loss: 3879.4580 - mae: 3879.4580\n",
      "Epoch 17/100\n",
      "34/34 [==============================] - 0s 909us/step - loss: 3874.5703 - mae: 3874.5703\n",
      "Epoch 18/100\n",
      "34/34 [==============================] - 0s 939us/step - loss: 3845.0322 - mae: 3845.0322\n",
      "Epoch 19/100\n",
      "34/34 [==============================] - 0s 918us/step - loss: 3838.3784 - mae: 3838.3784\n",
      "Epoch 20/100\n",
      "34/34 [==============================] - 0s 909us/step - loss: 3824.8953 - mae: 3824.8953\n",
      "Epoch 21/100\n",
      "34/34 [==============================] - 0s 937us/step - loss: 3816.4468 - mae: 3816.4468\n",
      "Epoch 22/100\n",
      "34/34 [==============================] - 0s 925us/step - loss: 3804.7683 - mae: 3804.7683\n",
      "Epoch 23/100\n",
      "34/34 [==============================] - 0s 970us/step - loss: 3798.6819 - mae: 3798.6819\n",
      "Epoch 24/100\n",
      "34/34 [==============================] - 0s 879us/step - loss: 3796.4497 - mae: 3796.4497\n",
      "Epoch 25/100\n",
      "34/34 [==============================] - 0s 895us/step - loss: 3800.2209 - mae: 3800.2209\n",
      "Epoch 26/100\n",
      "34/34 [==============================] - 0s 2ms/step - loss: 3787.9758 - mae: 3787.9758\n",
      "Epoch 27/100\n",
      "34/34 [==============================] - 0s 956us/step - loss: 3782.2839 - mae: 3782.2839\n",
      "Epoch 28/100\n",
      "34/34 [==============================] - 0s 939us/step - loss: 3792.0554 - mae: 3792.0554\n",
      "Epoch 29/100\n",
      "34/34 [==============================] - 0s 909us/step - loss: 3776.2517 - mae: 3776.2517\n",
      "Epoch 30/100\n",
      "34/34 [==============================] - 0s 895us/step - loss: 3781.0298 - mae: 3781.0298\n",
      "Epoch 31/100\n",
      "34/34 [==============================] - 0s 939us/step - loss: 3780.7122 - mae: 3780.7122\n",
      "Epoch 32/100\n",
      "34/34 [==============================] - 0s 939us/step - loss: 3774.4551 - mae: 3774.4551\n",
      "Epoch 33/100\n",
      "34/34 [==============================] - 0s 913us/step - loss: 3775.6433 - mae: 3775.6433\n",
      "Epoch 34/100\n",
      "34/34 [==============================] - 0s 909us/step - loss: 3763.2964 - mae: 3763.2964\n",
      "Epoch 35/100\n",
      "34/34 [==============================] - 0s 879us/step - loss: 3769.6653 - mae: 3769.6653\n",
      "Epoch 36/100\n",
      "34/34 [==============================] - 0s 894us/step - loss: 3762.7412 - mae: 3762.7412\n",
      "Epoch 37/100\n",
      "34/34 [==============================] - 0s 909us/step - loss: 3760.9495 - mae: 3760.9495\n",
      "Epoch 38/100\n",
      "34/34 [==============================] - 0s 909us/step - loss: 3768.5657 - mae: 3768.5657\n",
      "Epoch 39/100\n",
      "34/34 [==============================] - 0s 894us/step - loss: 3755.9321 - mae: 3755.9321\n",
      "Epoch 40/100\n",
      "34/34 [==============================] - 0s 939us/step - loss: 3772.7520 - mae: 3772.7520\n",
      "Epoch 41/100\n",
      "34/34 [==============================] - 0s 1ms/step - loss: 3759.4958 - mae: 3759.4958\n",
      "Epoch 42/100\n",
      "34/34 [==============================] - 0s 1ms/step - loss: 3754.9507 - mae: 3754.9507\n",
      "Epoch 43/100\n",
      "34/34 [==============================] - 0s 1ms/step - loss: 3750.9443 - mae: 3750.9443\n",
      "Epoch 44/100\n",
      "34/34 [==============================] - 0s 1ms/step - loss: 3748.7151 - mae: 3748.7151\n",
      "Epoch 45/100\n",
      "34/34 [==============================] - 0s 1ms/step - loss: 3742.7703 - mae: 3742.7703\n",
      "Epoch 46/100\n",
      "34/34 [==============================] - 0s 1ms/step - loss: 3743.5454 - mae: 3743.5454\n",
      "Epoch 47/100\n",
      "34/34 [==============================] - 0s 1ms/step - loss: 3743.6533 - mae: 3743.6533\n",
      "Epoch 48/100\n",
      "34/34 [==============================] - 0s 940us/step - loss: 3740.8418 - mae: 3740.8418\n",
      "Epoch 49/100\n",
      "34/34 [==============================] - 0s 895us/step - loss: 3749.3989 - mae: 3749.3989\n",
      "Epoch 50/100\n",
      "34/34 [==============================] - 0s 909us/step - loss: 3735.8486 - mae: 3735.8486\n",
      "Epoch 51/100\n",
      "34/34 [==============================] - 0s 940us/step - loss: 3737.1040 - mae: 3737.1040\n",
      "Epoch 52/100\n",
      "34/34 [==============================] - 0s 1ms/step - loss: 3741.4292 - mae: 3741.4292\n",
      "Epoch 53/100\n",
      "34/34 [==============================] - 0s 2ms/step - loss: 3730.7769 - mae: 3730.7769\n",
      "Epoch 54/100\n",
      "34/34 [==============================] - 0s 1ms/step - loss: 3737.7644 - mae: 3737.7644\n",
      "Epoch 55/100\n",
      "34/34 [==============================] - 0s 970us/step - loss: 3729.5574 - mae: 3729.5574\n",
      "Epoch 56/100\n",
      "34/34 [==============================] - 0s 909us/step - loss: 3726.4116 - mae: 3726.4116\n",
      "Epoch 57/100\n",
      "34/34 [==============================] - 0s 926us/step - loss: 3724.2871 - mae: 3724.2871\n",
      "Epoch 58/100\n",
      "34/34 [==============================] - 0s 909us/step - loss: 3728.6121 - mae: 3728.6121\n",
      "Epoch 59/100\n",
      "34/34 [==============================] - 0s 970us/step - loss: 3732.8066 - mae: 3732.8066\n",
      "Epoch 60/100\n",
      "34/34 [==============================] - 0s 942us/step - loss: 3724.7937 - mae: 3724.7937\n",
      "Epoch 61/100\n",
      "34/34 [==============================] - 0s 909us/step - loss: 3728.6890 - mae: 3728.6890\n",
      "Epoch 62/100\n",
      "34/34 [==============================] - 0s 909us/step - loss: 3727.3630 - mae: 3727.3630\n",
      "Epoch 63/100\n",
      "34/34 [==============================] - 0s 925us/step - loss: 3719.3945 - mae: 3719.3945\n",
      "Epoch 64/100\n",
      "34/34 [==============================] - 0s 970us/step - loss: 3716.0933 - mae: 3716.0933\n",
      "Epoch 65/100\n",
      "34/34 [==============================] - 0s 939us/step - loss: 3713.7703 - mae: 3713.7703\n",
      "Epoch 66/100\n",
      "34/34 [==============================] - 0s 1ms/step - loss: 3723.3950 - mae: 3723.3950\n",
      "Epoch 67/100\n",
      "34/34 [==============================] - 0s 1ms/step - loss: 3721.9958 - mae: 3721.9958\n",
      "Epoch 68/100\n",
      "34/34 [==============================] - 0s 926us/step - loss: 3715.1292 - mae: 3715.1292\n",
      "Epoch 69/100\n",
      "34/34 [==============================] - 0s 939us/step - loss: 3710.9741 - mae: 3710.9741\n",
      "Epoch 70/100\n",
      "34/34 [==============================] - 0s 940us/step - loss: 3708.4861 - mae: 3708.4861\n",
      "Epoch 71/100\n",
      "34/34 [==============================] - 0s 865us/step - loss: 3714.9692 - mae: 3714.9692\n",
      "Epoch 72/100\n",
      "34/34 [==============================] - 0s 940us/step - loss: 3705.6853 - mae: 3705.6853\n",
      "Epoch 73/100\n",
      "34/34 [==============================] - 0s 909us/step - loss: 3708.1772 - mae: 3708.1772\n",
      "Epoch 74/100\n",
      "34/34 [==============================] - 0s 925us/step - loss: 3698.9724 - mae: 3698.9724\n",
      "Epoch 75/100\n",
      "34/34 [==============================] - 0s 2ms/step - loss: 3697.1711 - mae: 3697.1711\n",
      "Epoch 76/100\n",
      "34/34 [==============================] - 0s 1ms/step - loss: 3695.9062 - mae: 3695.9062\n",
      "Epoch 77/100\n",
      "34/34 [==============================] - 0s 909us/step - loss: 3696.7368 - mae: 3696.7368\n",
      "Epoch 78/100\n",
      "34/34 [==============================] - 0s 939us/step - loss: 3692.6741 - mae: 3692.6741\n",
      "Epoch 79/100\n",
      "34/34 [==============================] - 0s 951us/step - loss: 3695.0022 - mae: 3695.0022\n",
      "Epoch 80/100\n",
      "34/34 [==============================] - 0s 939us/step - loss: 3688.4988 - mae: 3688.4988\n",
      "Epoch 81/100\n",
      "34/34 [==============================] - 0s 1ms/step - loss: 3690.6995 - mae: 3690.6995\n",
      "Epoch 82/100\n",
      "34/34 [==============================] - 0s 1ms/step - loss: 3686.1479 - mae: 3686.1479\n",
      "Epoch 83/100\n",
      "34/34 [==============================] - 0s 1ms/step - loss: 3687.0413 - mae: 3687.0413\n",
      "Epoch 84/100\n",
      "34/34 [==============================] - 0s 925us/step - loss: 3684.3672 - mae: 3684.3672\n",
      "Epoch 85/100\n",
      "34/34 [==============================] - 0s 1ms/step - loss: 3678.6340 - mae: 3678.6340\n",
      "Epoch 86/100\n",
      "34/34 [==============================] - 0s 1ms/step - loss: 3680.2256 - mae: 3680.2256\n",
      "Epoch 87/100\n",
      "34/34 [==============================] - 0s 986us/step - loss: 3683.7812 - mae: 3683.7812\n",
      "Epoch 88/100\n",
      "34/34 [==============================] - 0s 1ms/step - loss: 3681.9287 - mae: 3681.9287\n",
      "Epoch 89/100\n",
      "34/34 [==============================] - 0s 1ms/step - loss: 3676.2739 - mae: 3676.2739\n",
      "Epoch 90/100\n",
      "34/34 [==============================] - 0s 1ms/step - loss: 3682.1768 - mae: 3682.1768\n",
      "Epoch 91/100\n",
      "34/34 [==============================] - 0s 1ms/step - loss: 3682.8657 - mae: 3682.8657\n",
      "Epoch 92/100\n",
      "34/34 [==============================] - 0s 2ms/step - loss: 3675.3643 - mae: 3675.3643\n",
      "Epoch 93/100\n",
      "34/34 [==============================] - 0s 970us/step - loss: 3669.8262 - mae: 3669.8262\n",
      "Epoch 94/100\n",
      "34/34 [==============================] - 0s 956us/step - loss: 3670.0566 - mae: 3670.0566\n",
      "Epoch 95/100\n",
      "34/34 [==============================] - 0s 1000us/step - loss: 3666.2363 - mae: 3666.2363\n",
      "Epoch 96/100\n",
      "34/34 [==============================] - 0s 1ms/step - loss: 3668.7913 - mae: 3668.7913\n",
      "Epoch 97/100\n",
      "34/34 [==============================] - 0s 976us/step - loss: 3664.0488 - mae: 3664.0488\n",
      "Epoch 98/100\n",
      "34/34 [==============================] - 0s 909us/step - loss: 3658.1326 - mae: 3658.1326\n",
      "Epoch 99/100\n",
      "34/34 [==============================] - 0s 1ms/step - loss: 3676.5940 - mae: 3676.5940\n",
      "Epoch 100/100\n",
      "34/34 [==============================] - 0s 1ms/step - loss: 3665.7930 - mae: 3665.7930\n"
     ]
    }
   ],
   "source": [
    "history =  model.fit(X_train,y_train,epochs=100,verbose=1)"
   ]
  },
  {
   "cell_type": "code",
   "execution_count": 73,
   "metadata": {},
   "outputs": [
    {
     "name": "stdout",
     "output_type": "stream",
     "text": [
      "9/9 [==============================] - 0s 1ms/step - loss: 3495.3792 - mae: 3495.3792\n"
     ]
    },
    {
     "data": {
      "text/plain": [
       "[3495.379150390625, 3495.379150390625]"
      ]
     },
     "execution_count": 73,
     "metadata": {},
     "output_type": "execute_result"
    }
   ],
   "source": [
    "model.evaluate(X_test,y_test)"
   ]
  },
  {
   "cell_type": "code",
   "execution_count": 82,
   "metadata": {},
   "outputs": [
    {
     "data": {
      "text/plain": [
       "Text(0.5, 0, 'epochs')"
      ]
     },
     "execution_count": 82,
     "metadata": {},
     "output_type": "execute_result"
    },
    {
     "data": {
      "image/png": "[encoded data removed]",
      "text/plain": [
       "<Figure size 640x480 with 1 Axes>"
      ]
     },
     "metadata": {},
     "output_type": "display_data"
    }
   ],
   "source": [
    "import matplotlib.pyplot as plt\n",
    "pd.DataFrame(history.history).plot()\n",
    "plt.ylabel(\"loss\")\n",
    "plt.xlabel(\"epochs\")"
   ]
  },
  {
   "cell_type": "code",
   "execution_count": 81,
   "metadata": {},
   "outputs": [
    {
     "data": {
      "text/plain": [
       "Text(0.5, 0, 'epochs')"
      ]
     },
     "execution_count": 81,
     "metadata": {},
     "output_type": "execute_result"
    },
    {
     "data": {
      "image/png": "[encoded data removed]",
      "text/plain": [
       "<Figure size 640x480 with 1 Axes>"
      ]
     },
     "metadata": {},
     "output_type": "display_data"
    }
   ],
   "source": [
    "import matplotlib.pyplot as plt\n",
    "\n",
    "pd.DataFrame(history.history).plot()\n",
    "plt.ylabel(\"loss\")\n",
    "plt.xlabel(\"epochs\")"
   ]
  },
  {
   "cell_type": "code",
   "execution_count": null,
   "metadata": {},
   "outputs": [],
   "source": []
  }
 ],
 "metadata": {
  "kernelspec": {
   "display_name": "Python 3",
   "language": "python",
   "name": "python3"
  },
  "language_info": {
   "codemirror_mode": {
    "name": "ipython",
    "version": 3
   },
   "file_extension": ".py",
   "mimetype": "text/x-python",
   "name": "python",
   "nbconvert_exporter": "python",
   "pygments_lexer": "ipython3",
   "version": "3.11.5"
  }
 },
 "nbformat": 4,
 "nbformat_minor": 2
}
